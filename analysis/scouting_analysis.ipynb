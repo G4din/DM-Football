{
 "cells": [
  {
   "cell_type": "code",
   "execution_count": 2,
   "metadata": {},
   "outputs": [],
   "source": [
    "import requests\n",
    "import json\n",
    "from bs4 import BeautifulSoup\n",
    "import pandas as pd\n",
    "import numpy as np\n",
    "import os"
   ]
  },
  {
   "cell_type": "markdown",
   "metadata": {},
   "source": [
    "# Scouting Analysis\n",
    "\n",
    "This notebook offers a scouting analysis tool for new player acquisitions using financial data from Transfermarkt and player statistics from Wyscout.\n",
    "\n",
    "- Financial data from Transfermarkt: Transfer fees, market value\n",
    "- Player statistics from Wyscout: Player position, age, minutes played, goals, assists, shots, passes, tackles, interceptions, etc."
   ]
  },
  {
   "cell_type": "markdown",
   "metadata": {},
   "source": [
    "# 1. Data Collection"
   ]
  },
  {
   "cell_type": "markdown",
   "metadata": {},
   "source": [
    "## 1.1. Transfermarkt"
   ]
  },
  {
   "cell_type": "code",
   "execution_count": 4,
   "metadata": {},
   "outputs": [
    {
     "name": "stdout",
     "output_type": "stream",
     "text": [
      "End of pages 150\n"
     ]
    }
   ],
   "source": [
    "def to_number(string):\n",
    "    \"\"\"Converts a string to a number, e.g. \"€1.2m\" to 1.2\"\"\"\n",
    "    try:\n",
    "        if string[-1] == \"m\":\n",
    "            # convert to millions\n",
    "            return float(string[1:-1])\n",
    "        else:\n",
    "            return float(string[1:-1]) / 1000\n",
    "    except:\n",
    "        return np.nan\n",
    "\n",
    "\n",
    "# Get out Player Name, Position, Left Club, Joined Club, Fee\n",
    "player_names = []\n",
    "player_fees = []\n",
    "player_values = []\n",
    "player_positions = []\n",
    "\n",
    "headers = {\"User-Agent\": \n",
    "           \"Mozilla/5.0 (X11; Linux x86_64) AppleWebKit/537.36 (KHTML, like Gecko) Chrome/47.0.2526.106 Safari/537.36\"}\n",
    "\n",
    "base_url = \"https://www.transfermarkt.co.uk/transfers/transferrekorde/statistik?saison_id=2017&land_id=0&ausrichtung=&spielerposition_id=&altersklasse=&leihe=&w_s=&plus=1&page=\"\n",
    "\n",
    "# Loop through multiple pages\n",
    "page_number = 1\n",
    "end = False\n",
    "limit = 150\n",
    "\n",
    "while end == False:\n",
    "    page = base_url + str(page_number)\n",
    "    try:\n",
    "        pt = requests.get(page, headers=headers)\n",
    "\n",
    "        ps = BeautifulSoup(pt.content, \"html.parser\")\n",
    "\n",
    "        player_rows = ps.find_all(\"tr\", {\"class\": [\"odd\", \"even\"]})\n",
    "        page_number += 1\n",
    "\n",
    "        for player_row in player_rows:\n",
    "            player_name = player_row.select(\"a\")[0].text\n",
    "            player_fee = to_number(player_row.select(\"td\")[17].text)\n",
    "            player_value = to_number(player_row.select(\"td\")[6].text)\n",
    "            player_position = player_row.select(\"td\")[4].text\n",
    "            \n",
    "            player_names.append(player_name)\n",
    "            player_fees.append(player_fee)\n",
    "            player_values.append(player_value)\n",
    "            player_positions.append(player_position)\n",
    "    \n",
    "        if limit is not None:\n",
    "            if page_number == limit:\n",
    "                end = True\n",
    "                print(\"End of pages\", page_number)\n",
    "\n",
    "    except Exception as e:\n",
    "        print(e)\n",
    "        end = True\n",
    "        print(\"End of pages\", page_number)\n",
    "\n",
    "df_players_finance = pd.DataFrame({\n",
    "    \"Player Name\": player_names,\n",
    "    \"Market Value (m€)\": player_values,\n",
    "    \"Fee (m€)\": player_fees,\n",
    "    \"Position\": player_positions\n",
    "})\n",
    "\n",
    "df_players_finance\n",
    "\n",
    "os.makedirs(\"data\", exist_ok=True)\n",
    "df_players_finance.to_csv(\"data/players_finance.csv\", index=False)"
   ]
  },
  {
   "cell_type": "code",
   "execution_count": 6,
   "metadata": {},
   "outputs": [
    {
     "data": {
      "text/html": [
       "<div>\n",
       "<style scoped>\n",
       "    .dataframe tbody tr th:only-of-type {\n",
       "        vertical-align: middle;\n",
       "    }\n",
       "\n",
       "    .dataframe tbody tr th {\n",
       "        vertical-align: top;\n",
       "    }\n",
       "\n",
       "    .dataframe thead th {\n",
       "        text-align: right;\n",
       "    }\n",
       "</style>\n",
       "<table border=\"1\" class=\"dataframe\">\n",
       "  <thead>\n",
       "    <tr style=\"text-align: right;\">\n",
       "      <th></th>\n",
       "      <th>Player Name</th>\n",
       "      <th>Market Value (m€)</th>\n",
       "      <th>Fee (m€)</th>\n",
       "      <th>Position</th>\n",
       "    </tr>\n",
       "  </thead>\n",
       "  <tbody>\n",
       "    <tr>\n",
       "      <th>0</th>\n",
       "      <td>Neymar</td>\n",
       "      <td>100.0</td>\n",
       "      <td>222.00</td>\n",
       "      <td>Left Winger</td>\n",
       "    </tr>\n",
       "    <tr>\n",
       "      <th>1</th>\n",
       "      <td>Philippe Coutinho</td>\n",
       "      <td>90.0</td>\n",
       "      <td>135.00</td>\n",
       "      <td>Attacking Midfield</td>\n",
       "    </tr>\n",
       "    <tr>\n",
       "      <th>2</th>\n",
       "      <td>Ousmane Dembélé</td>\n",
       "      <td>33.0</td>\n",
       "      <td>135.00</td>\n",
       "      <td>Right Winger</td>\n",
       "    </tr>\n",
       "    <tr>\n",
       "      <th>3</th>\n",
       "      <td>Romelu Lukaku</td>\n",
       "      <td>50.0</td>\n",
       "      <td>84.70</td>\n",
       "      <td>Centre-Forward</td>\n",
       "    </tr>\n",
       "    <tr>\n",
       "      <th>4</th>\n",
       "      <td>Virgil van Dijk</td>\n",
       "      <td>30.0</td>\n",
       "      <td>84.65</td>\n",
       "      <td>Centre-Back</td>\n",
       "    </tr>\n",
       "  </tbody>\n",
       "</table>\n",
       "</div>"
      ],
      "text/plain": [
       "         Player Name  Market Value (m€)  Fee (m€)            Position\n",
       "0             Neymar              100.0    222.00         Left Winger\n",
       "1  Philippe Coutinho               90.0    135.00  Attacking Midfield\n",
       "2    Ousmane Dembélé               33.0    135.00        Right Winger\n",
       "3      Romelu Lukaku               50.0     84.70      Centre-Forward\n",
       "4    Virgil van Dijk               30.0     84.65         Centre-Back"
      ]
     },
     "execution_count": 6,
     "metadata": {},
     "output_type": "execute_result"
    }
   ],
   "source": [
    "df_players_finance.head()"
   ]
  },
  {
   "cell_type": "markdown",
   "metadata": {},
   "source": [
    "## 1.2 Wyscout Player data"
   ]
  },
  {
   "cell_type": "markdown",
   "metadata": {},
   "source": [
    "Please check that the wyscount data is downloaded and sits in /src/wyscout directory in this repository!"
   ]
  },
  {
   "cell_type": "code",
   "execution_count": 7,
   "metadata": {},
   "outputs": [],
   "source": [
    "current_dir = os.getcwd()\n",
    "parent_dir = os.path.dirname(current_dir)\n",
    "wyscout_dir = os.path.join(parent_dir, \"src\", \"wyscout\")\n",
    "\n",
    "# Check if dir exists\n",
    "assert os.path.exists(wyscout_dir), \"Wyscout directory does not exist, download data!\""
   ]
  },
  {
   "cell_type": "markdown",
   "metadata": {},
   "source": [
    "We define the function that caluclates the metrics with the given data files"
   ]
  },
  {
   "cell_type": "code",
   "execution_count": 8,
   "metadata": {},
   "outputs": [],
   "source": [
    "import pandas as pd\n",
    "import json\n",
    "import os\n",
    "import pathlib\n",
    "import numpy as np\n",
    "from scipy import stats\n",
    "\n",
    "def decode_unicode_escapes(name):\n",
    "    try:\n",
    "        return name.encode(\"utf-8\").decode(\"unicode_escape\")\n",
    "    except Exception as e:\n",
    "        return name\n",
    "\n",
    "def calculate_player_stats(players_file_path, Country):\n",
    "    \"\"\"\n",
    "    Calculates performance metrics for football players from event data.\n",
    "\n",
    "    Returns:\n",
    "    DataFrame containing player IDs, names, and calculated statistics.\n",
    "    \"\"\"\n",
    "    \n",
    "    event_file_path = os.path.join(wyscout_dir, \"events\" , f\"events_{Country}.json\")\n",
    "\n",
    "    # Load event data\n",
    "    with open(event_file_path) as file:\n",
    "        events_data = json.load(file)\n",
    "    events_df = pd.DataFrame(events_data)\n",
    "\n",
    "    # Load player data\n",
    "    with open(players_file_path) as file:\n",
    "        players_data = json.load(file)\n",
    "    players_df = pd.DataFrame(players_data)\n",
    "\n",
    "    # TURNOVERS\n",
    "    def turnovers(df):\n",
    "        dribble_forward = df.loc[df[\"subEventName\"] == \"Ground attacking duel\"]\n",
    "        lost_dribble_forward = dribble_forward.loc[dribble_forward.apply(lambda x:{\"id\":701} in x.tags, axis = 1)]\n",
    "        ldf = lost_dribble_forward.groupby([\"playerId\"]).eventId.count().reset_index()\n",
    "        ldf.rename(columns = {\"eventId\":\"lost_dribble_forward\"}, inplace=True)\n",
    "        \n",
    "        passes = df.loc[df[\"eventName\"] == \"Pass\"]\n",
    "        lost_pass = passes.loc[passes.apply(lambda x:{\"id\":1802} in x.tags, axis = 1)]\n",
    "        lp = lost_pass.groupby([\"playerId\"]).eventId.count().reset_index()\n",
    "        lp.rename(columns = {\"eventId\":\"lost_pass\"}, inplace=True)\n",
    "\n",
    "        turnovers_made = ldf.merge(lp, how = \"outer\", on = [\"playerId\"])\n",
    "        return turnovers_made\n",
    "\n",
    "    # CLEARANCES\n",
    "    def clearance(df):\n",
    "        clearance = df.loc[df[\"subEventName\"] == \"Clearance\"]\n",
    "        clearing_player = clearance.groupby([\"playerId\"]).eventId.count().reset_index()\n",
    "        clearing_player.rename(columns = {\"eventId\":\"clearances\"}, inplace=True)\n",
    "        return clearing_player\n",
    "\n",
    "    # INTERCEPTIONS\n",
    "    def interception(df):\n",
    "        opp_pass = df.loc[df[\"eventName\"] == \"Pass\"]\n",
    "        interception = opp_pass.loc[opp_pass.apply(lambda x:{\"id\":1401} in x.tags, axis = 1)]\n",
    "        intercepting_player = interception.groupby([\"playerId\"]).eventId.count().reset_index()\n",
    "        intercepting_player.rename(columns = {\"eventId\":\"interceptions\"}, inplace=True)\n",
    "        return intercepting_player\n",
    "\n",
    "    # DUELS WON\n",
    "    def defensiveDuelsWon(df):\n",
    "        loose_duels = df.loc[df[\"subEventName\"] == \"Ground loose ball duel\"]\n",
    "        won_loose_duels = loose_duels.loc[loose_duels.apply(lambda x:{\"id\":703} in x.tags, axis = 1)]\n",
    "        wld_player = won_loose_duels.groupby([\"playerId\"]).eventId.count().reset_index()\n",
    "        wld_player.rename(columns = {\"eventId\":\"loose_duels_won\"}, inplace=True)\n",
    "        \n",
    "        def_ground_duels = df.loc[df[\"subEventName\"].isin([\"Ground defending duel\"])]\n",
    "        won_ground_duels = def_ground_duels.loc[def_ground_duels.apply(lambda x:{\"id\":703} in x.tags, axis = 1)]\n",
    "        wgd_player = won_ground_duels.groupby([\"playerId\"]).eventId.count().reset_index()\n",
    "        wgd_player.rename(columns = {\"eventId\":\"def_ground_duels_won\"}, inplace=True)\n",
    "\n",
    "        air_duels = df.loc[df[\"subEventName\"].isin([\"Air duel\"])]\n",
    "        won_air_duels = air_duels.loc[air_duels.apply(lambda x:{\"id\":703} in x.tags, axis = 1)]\n",
    "        wad_player = won_air_duels.groupby([\"playerId\"]).eventId.count().reset_index()\n",
    "        wad_player.rename(columns = {\"eventId\":\"air_duels_won\"}, inplace=True)\n",
    "        \n",
    "        duels_won = wgd_player.merge(wld_player, how = \"outer\", on = [\"playerId\"]).merge(wad_player, how = \"outer\", on = [\"playerId\"])\n",
    "        return duels_won\n",
    "\n",
    "    # Apply functions\n",
    "    turnover_stats = turnovers(events_df)\n",
    "    clearance_stats = clearance(events_df)\n",
    "    interception_stats = interception(events_df)\n",
    "    duels_stats = defensiveDuelsWon(events_df)\n",
    "\n",
    "    # Merge all statistics into a single DataFrame\n",
    "    stats_df = pd.DataFrame(events_df[\"playerId\"].unique(), columns=[\"playerId\"])\n",
    "    for stat_df in [turnover_stats, clearance_stats, interception_stats, duels_stats]:\n",
    "        stats_df = stats_df.merge(stat_df, how=\"left\", on=[\"playerId\"])\n",
    "\n",
    "    # Merge with player minutes played\n",
    "    # path_minutes = os.path.join(str(pathlib.Path().resolve().parents[0]), \"DM-Football\", \"src\", \"wyscout\", \"minutes_played\", \"minutes_played_per_game_England.json\") \n",
    "    path_minutes = os.path.join(wyscout_dir, \"minutes_played\" , f\"minutes_played_per_game_{Country}.json\")\n",
    "    \n",
    "    with open(path_minutes) as f:\n",
    "        minutes_per_game = json.load(f)\n",
    "    minutes_df = pd.DataFrame(minutes_per_game)\n",
    "    minutes = minutes_df.groupby([\"playerId\"]).minutesPlayed.sum().reset_index()\n",
    "\n",
    "    stats_df = stats_df.merge(minutes, how=\"left\", on=[\"playerId\"])\n",
    "    stats_df = stats_df.fillna(0)\n",
    "    stats_df = stats_df.loc[stats_df[\"minutesPlayed\"] > 400]\n",
    "\n",
    "    # Calculate per 90 statistics\n",
    "    for column in [\"lost_dribble_forward\", \"lost_pass\", \"clearances\", \"interceptions\", \"loose_duels_won\", \"def_ground_duels_won\", \"air_duels_won\"]:\n",
    "        stats_df[column + \"_per90\"] = stats_df.apply(lambda x: (x[column]*90)/x[\"minutesPlayed\"] if x[\"minutesPlayed\"] > 0 else 0, axis=1)\n",
    "\n",
    "    # Merge with player names\n",
    "    players_df[\"fullName\"] = players_df[\"firstName\"].fillna(\"\") + \" \" + players_df[\"middleName\"].fillna(\"\") + \" \" + players_df[\"lastName\"].fillna(\"\")\n",
    "    \n",
    "    players_df[\"fullName\"] = players_df[\"fullName\"].str.strip().apply(decode_unicode_escapes)\n",
    "\n",
    "    players_df = players_df[[\"wyId\", \"fullName\"]]\n",
    "    players_df.rename(columns={\"wyId\": \"playerId\"}, inplace=True)\n",
    "    final_df = stats_df.merge(players_df, how=\"left\", on=\"playerId\")\n",
    "\n",
    "    features = {\n",
    "        \"playerId\": \"Player_Id\",\n",
    "        \"fullName\": \"Full_Name\",\n",
    "        \"air_duels_won_per90\": \"Air_Duels_Won\",\n",
    "        \"interceptions_per90\": \"Interceptions\",\n",
    "        \"clearances_per90\": \"Clearances\",\n",
    "        \"lost_pass_per90\": \"Turnovers\",\n",
    "        \"loose_duels_won_per90\": \"Loose_Ball_Duels_Won\",\n",
    "        \"def_ground_duels_won_per90\": \"Defensive_Duels_Won\"\n",
    "    }\n",
    "\n",
    "    final_df = final_df[list(features.keys())]\n",
    "    final_df.rename(columns=features, inplace=True)\n",
    "    final_df.set_index(\"Player_Id\", inplace=True)\n",
    "\n",
    "    return final_df"
   ]
  },
  {
   "cell_type": "markdown",
   "metadata": {},
   "source": [
    "Next step, we iterate over all countries and caclulcate player statstics. Outcome will be one big data file"
   ]
  },
  {
   "cell_type": "code",
   "execution_count": 97,
   "metadata": {},
   "outputs": [
    {
     "name": "stdout",
     "output_type": "stream",
     "text": [
      "Processing England\n",
      "Processing France\n",
      "Processing Germany\n",
      "Processing Italy\n",
      "Processing Spain\n"
     ]
    }
   ],
   "source": [
    "player_stats_df = pd.DataFrame()\n",
    "\n",
    "countries = [\"England\", \"France\", \"Germany\", \"Italy\", \"Spain\"]\n",
    "\n",
    "players_file_path = os.path.join(wyscout_dir, \"player.json\")\n",
    "events_dir = os.path.join(wyscout_dir, \"events\")\n",
    "\n",
    "\n",
    "for country in countries:\n",
    "        print(\"Processing\", country)\n",
    "        country_stats_df = calculate_player_stats(players_file_path, country)\n",
    "        player_stats_df = pd.concat([player_stats_df, country_stats_df]).drop_duplicates()"
   ]
  },
  {
   "cell_type": "code",
   "execution_count": 101,
   "metadata": {},
   "outputs": [],
   "source": [
    "# Save to filesytem\n",
    "os.makedirs(\"data\", exist_ok=True)\n",
    "player_stats_df.to_csv(\"data/player_stats.csv\")"
   ]
  },
  {
   "cell_type": "code",
   "execution_count": 106,
   "metadata": {},
   "outputs": [
    {
     "data": {
      "text/html": [
       "<div>\n",
       "<style scoped>\n",
       "    .dataframe tbody tr th:only-of-type {\n",
       "        vertical-align: middle;\n",
       "    }\n",
       "\n",
       "    .dataframe tbody tr th {\n",
       "        vertical-align: top;\n",
       "    }\n",
       "\n",
       "    .dataframe thead th {\n",
       "        text-align: right;\n",
       "    }\n",
       "</style>\n",
       "<table border=\"1\" class=\"dataframe\">\n",
       "  <thead>\n",
       "    <tr style=\"text-align: right;\">\n",
       "      <th></th>\n",
       "      <th>Full_Name</th>\n",
       "      <th>Air_Duels_Won</th>\n",
       "      <th>Interceptions</th>\n",
       "      <th>Clearances</th>\n",
       "      <th>Turnovers</th>\n",
       "      <th>Loose_Ball_Duels_Won</th>\n",
       "      <th>Defensive_Duels_Won</th>\n",
       "    </tr>\n",
       "    <tr>\n",
       "      <th>Player_Id</th>\n",
       "      <th></th>\n",
       "      <th></th>\n",
       "      <th></th>\n",
       "      <th></th>\n",
       "      <th></th>\n",
       "      <th></th>\n",
       "      <th></th>\n",
       "    </tr>\n",
       "  </thead>\n",
       "  <tbody>\n",
       "    <tr>\n",
       "      <th>25413</th>\n",
       "      <td>Alexandre  Lacazette</td>\n",
       "      <td>0.947784</td>\n",
       "      <td>0.197455</td>\n",
       "      <td>0.157964</td>\n",
       "      <td>5.410268</td>\n",
       "      <td>1.184730</td>\n",
       "      <td>0.947784</td>\n",
       "    </tr>\n",
       "    <tr>\n",
       "      <th>370224</th>\n",
       "      <td>Rob  Holding</td>\n",
       "      <td>2.812500</td>\n",
       "      <td>3.437500</td>\n",
       "      <td>2.604167</td>\n",
       "      <td>7.500000</td>\n",
       "      <td>2.291667</td>\n",
       "      <td>1.979167</td>\n",
       "    </tr>\n",
       "    <tr>\n",
       "      <th>3319</th>\n",
       "      <td>Mesut  Özil</td>\n",
       "      <td>0.000000</td>\n",
       "      <td>0.599201</td>\n",
       "      <td>0.159787</td>\n",
       "      <td>9.027963</td>\n",
       "      <td>0.599201</td>\n",
       "      <td>0.719041</td>\n",
       "    </tr>\n",
       "    <tr>\n",
       "      <th>120339</th>\n",
       "      <td>Mohamed Naser  Elsayed Elneny</td>\n",
       "      <td>0.800890</td>\n",
       "      <td>2.302558</td>\n",
       "      <td>0.901001</td>\n",
       "      <td>5.305895</td>\n",
       "      <td>0.901001</td>\n",
       "      <td>1.401557</td>\n",
       "    </tr>\n",
       "    <tr>\n",
       "      <th>167145</th>\n",
       "      <td>Héctor  Bellerín Moruno</td>\n",
       "      <td>1.159284</td>\n",
       "      <td>1.837889</td>\n",
       "      <td>1.244109</td>\n",
       "      <td>8.058435</td>\n",
       "      <td>1.300660</td>\n",
       "      <td>1.131008</td>\n",
       "    </tr>\n",
       "    <tr>\n",
       "      <th>...</th>\n",
       "      <td>...</td>\n",
       "      <td>...</td>\n",
       "      <td>...</td>\n",
       "      <td>...</td>\n",
       "      <td>...</td>\n",
       "      <td>...</td>\n",
       "      <td>...</td>\n",
       "    </tr>\n",
       "    <tr>\n",
       "      <th>20410</th>\n",
       "      <td>Sulley Ali  Muntari</td>\n",
       "      <td>2.846715</td>\n",
       "      <td>3.065693</td>\n",
       "      <td>1.313869</td>\n",
       "      <td>9.416058</td>\n",
       "      <td>1.751825</td>\n",
       "      <td>1.532847</td>\n",
       "    </tr>\n",
       "    <tr>\n",
       "      <th>4014</th>\n",
       "      <td>Pedro León  Sánchez Gil</td>\n",
       "      <td>1.301653</td>\n",
       "      <td>1.301653</td>\n",
       "      <td>0.836777</td>\n",
       "      <td>9.669421</td>\n",
       "      <td>1.115702</td>\n",
       "      <td>0.278926</td>\n",
       "    </tr>\n",
       "    <tr>\n",
       "      <th>3994</th>\n",
       "      <td>Miguel Ángel  Moyà Rumbo</td>\n",
       "      <td>0.227848</td>\n",
       "      <td>0.797468</td>\n",
       "      <td>1.025316</td>\n",
       "      <td>2.620253</td>\n",
       "      <td>0.000000</td>\n",
       "      <td>0.000000</td>\n",
       "    </tr>\n",
       "    <tr>\n",
       "      <th>3795</th>\n",
       "      <td>Héctor Alfredo  Moreno Herrera</td>\n",
       "      <td>3.157895</td>\n",
       "      <td>1.700405</td>\n",
       "      <td>1.578947</td>\n",
       "      <td>5.101215</td>\n",
       "      <td>1.578947</td>\n",
       "      <td>1.093117</td>\n",
       "    </tr>\n",
       "    <tr>\n",
       "      <th>6577</th>\n",
       "      <td>Pedro  López Galisteo</td>\n",
       "      <td>0.000000</td>\n",
       "      <td>0.630841</td>\n",
       "      <td>0.841121</td>\n",
       "      <td>2.733645</td>\n",
       "      <td>0.000000</td>\n",
       "      <td>0.000000</td>\n",
       "    </tr>\n",
       "  </tbody>\n",
       "</table>\n",
       "<p>2021 rows × 7 columns</p>\n",
       "</div>"
      ],
      "text/plain": [
       "                                Full_Name  Air_Duels_Won  Interceptions  \\\n",
       "Player_Id                                                                 \n",
       "25413                Alexandre  Lacazette       0.947784       0.197455   \n",
       "370224                       Rob  Holding       2.812500       3.437500   \n",
       "3319                          Mesut  Özil       0.000000       0.599201   \n",
       "120339      Mohamed Naser  Elsayed Elneny       0.800890       2.302558   \n",
       "167145            Héctor  Bellerín Moruno       1.159284       1.837889   \n",
       "...                                   ...            ...            ...   \n",
       "20410                 Sulley Ali  Muntari       2.846715       3.065693   \n",
       "4014              Pedro León  Sánchez Gil       1.301653       1.301653   \n",
       "3994             Miguel Ángel  Moyà Rumbo       0.227848       0.797468   \n",
       "3795       Héctor Alfredo  Moreno Herrera       3.157895       1.700405   \n",
       "6577                Pedro  López Galisteo       0.000000       0.630841   \n",
       "\n",
       "           Clearances  Turnovers  Loose_Ball_Duels_Won  Defensive_Duels_Won  \n",
       "Player_Id                                                                    \n",
       "25413        0.157964   5.410268              1.184730             0.947784  \n",
       "370224       2.604167   7.500000              2.291667             1.979167  \n",
       "3319         0.159787   9.027963              0.599201             0.719041  \n",
       "120339       0.901001   5.305895              0.901001             1.401557  \n",
       "167145       1.244109   8.058435              1.300660             1.131008  \n",
       "...               ...        ...                   ...                  ...  \n",
       "20410        1.313869   9.416058              1.751825             1.532847  \n",
       "4014         0.836777   9.669421              1.115702             0.278926  \n",
       "3994         1.025316   2.620253              0.000000             0.000000  \n",
       "3795         1.578947   5.101215              1.578947             1.093117  \n",
       "6577         0.841121   2.733645              0.000000             0.000000  \n",
       "\n",
       "[2021 rows x 7 columns]"
      ]
     },
     "execution_count": 106,
     "metadata": {},
     "output_type": "execute_result"
    }
   ],
   "source": [
    "player_stats_df"
   ]
  },
  {
   "cell_type": "markdown",
   "metadata": {},
   "source": [
    "# 3. Step, merging financial data with calcuilates metrics"
   ]
  },
  {
   "cell_type": "markdown",
   "metadata": {},
   "source": [
    "We Will use Levensthein distance to get the similiarty of names and then match by most probable"
   ]
  },
  {
   "cell_type": "code",
   "execution_count": 9,
   "metadata": {},
   "outputs": [
    {
     "name": "stdout",
     "output_type": "stream",
     "text": [
      "         Player Name  Market Value (m€)  Fee (m€)            Position\n",
      "0             Neymar              100.0    222.00         Left Winger\n",
      "1  Philippe Coutinho               90.0    135.00  Attacking Midfield\n",
      "2    Ousmane Dembélé               33.0    135.00        Right Winger\n",
      "3      Romelu Lukaku               50.0     84.70      Centre-Forward\n",
      "4    Virgil van Dijk               30.0     84.65         Centre-Back\n",
      "   Player_Id                      Full_Name  Air_Duels_Won  Interceptions  \\\n",
      "0      25413           Alexandre  Lacazette       0.947784       0.197455   \n",
      "1     370224                   Rob  Holding       2.812500       3.437500   \n",
      "2       3319                    Mesut  Özil       0.000000       0.599201   \n",
      "3     120339  Mohamed Naser  Elsayed Elneny       0.800890       2.302558   \n",
      "4     167145        Héctor  Bellerín Moruno       1.159284       1.837889   \n",
      "\n",
      "   Clearances  Turnovers  Loose_Ball_Duels_Won  Defensive_Duels_Won  \n",
      "0    0.157964   5.410268              1.184730             0.947784  \n",
      "1    2.604167   7.500000              2.291667             1.979167  \n",
      "2    0.159787   9.027963              0.599201             0.719041  \n",
      "3    0.901001   5.305895              0.901001             1.401557  \n",
      "4    1.244109   8.058435              1.300660             1.131008  \n"
     ]
    }
   ],
   "source": [
    "# Prepare data\n",
    "players_finance_df = pd.read_csv(\"data/players_finance.csv\")\n",
    "print(players_finance_df.head())\n",
    "\n",
    "player_stats_df = pd.read_csv(\"data/player_stats.csv\")\n",
    "print(player_stats_df.head())"
   ]
  },
  {
   "cell_type": "code",
   "execution_count": 18,
   "metadata": {},
   "outputs": [
    {
     "name": "stdout",
     "output_type": "stream",
     "text": [
      "Amount financiaL: 249\n",
      "Amount stats: 2007\n",
      "Amount combined: 249\n"
     ]
    },
    {
     "name": "stderr",
     "output_type": "stream",
     "text": [
      "C:\\Users\\Philipp\\AppData\\Local\\Temp\\ipykernel_16520\\2833659335.py:32: FutureWarning: Returning a DataFrame from Series.apply when the supplied function returns a Series is deprecated and will be removed in a future version.\n",
      "  players_finance_df[['Matched_Name', 'Similarity_Score']] = players_finance_df['Player Name'].apply(\n"
     ]
    }
   ],
   "source": [
    "# Used to match names\n",
    "from difflib import SequenceMatcher\n",
    "\n",
    "def match_name_with_score(name, list_names, min_score=0.8):\n",
    "    \"\"\"\n",
    "    Returns the best match from a list of names based on similarity score, \n",
    "    along with the similarity score.\n",
    "    \"\"\"\n",
    "    best_match = None\n",
    "    highest_score = 0\n",
    "\n",
    "    # find match with highest sim\n",
    "    for candidate in list_names:\n",
    "        score = SequenceMatcher(None, name, candidate).ratio()\n",
    "        # set new best match if score is higher\n",
    "        if score > highest_score and score >= min_score:\n",
    "            highest_score = score\n",
    "            best_match = candidate\n",
    "\n",
    "    # Return score and mathces\n",
    "    return best_match, highest_score\n",
    "\n",
    "# Remove duplicates\n",
    "player_stats_df = player_stats_df.drop_duplicates(subset=\"Full_Name\")\n",
    "players_finance_df = players_finance_df.drop_duplicates(subset=\"Player Name\")\n",
    "\n",
    "# Create a mapping of player names to player IDs\n",
    "name_to_id = dict(zip(player_stats_df[\"Full_Name\"],\n",
    "                      player_stats_df[\"Player_Id\"]))\n",
    "\n",
    "# Apply the modified matching function\n",
    "players_finance_df[[\"Matched_Name\", \"Similarity_Score\"]] = players_finance_df[\"Player Name\"].apply(\n",
    "    lambda x: pd.Series(match_name_with_score(x, name_to_id.keys()))\n",
    ")\n",
    "players_finance_df[\"Player_Id\"] = players_finance_df[\"Matched_Name\"].map(name_to_id)\n",
    "\n",
    "# Merge the datasets on Player_Id\n",
    "combined_df = pd.merge(players_finance_df, player_stats_df, on=\"Player_Id\", how=\"left\")\n",
    "\n",
    "print(\"Amount financiaL:\", len(players_finance_df))\n",
    "print(\"Amount stats:\", len(player_stats_df))\n",
    "print(\"Amount combined:\", len(combined_df))"
   ]
  },
  {
   "cell_type": "code",
   "execution_count": 19,
   "metadata": {},
   "outputs": [],
   "source": [
    "# save to disk\n",
    "combined_df.to_csv(\"data/financial_and_stats.csv\", index=False)"
   ]
  },
  {
   "cell_type": "code",
   "execution_count": 43,
   "metadata": {},
   "outputs": [],
   "source": [
    "# drop columns Matched_Name and Similarity_Score\n",
    "combined_df = pd.read_csv(\"data/financial_and_stats.csv\")\n",
    "# filter rows containing any NaN values\n",
    "combined_df = combined_df.dropna()"
   ]
  },
  {
   "cell_type": "code",
   "execution_count": 23,
   "metadata": {},
   "outputs": [
    {
     "data": {
      "text/html": [
       "<div>\n",
       "<style scoped>\n",
       "    .dataframe tbody tr th:only-of-type {\n",
       "        vertical-align: middle;\n",
       "    }\n",
       "\n",
       "    .dataframe tbody tr th {\n",
       "        vertical-align: top;\n",
       "    }\n",
       "\n",
       "    .dataframe thead th {\n",
       "        text-align: right;\n",
       "    }\n",
       "</style>\n",
       "<table border=\"1\" class=\"dataframe\">\n",
       "  <thead>\n",
       "    <tr style=\"text-align: right;\">\n",
       "      <th></th>\n",
       "      <th>Player Name</th>\n",
       "      <th>Market Value (m€)</th>\n",
       "      <th>Fee (m€)</th>\n",
       "      <th>Position</th>\n",
       "      <th>Matched_Name</th>\n",
       "      <th>Similarity_Score</th>\n",
       "      <th>Player_Id</th>\n",
       "      <th>Full_Name</th>\n",
       "      <th>Air_Duels_Won</th>\n",
       "      <th>Interceptions</th>\n",
       "      <th>Clearances</th>\n",
       "      <th>Turnovers</th>\n",
       "      <th>Loose_Ball_Duels_Won</th>\n",
       "      <th>Defensive_Duels_Won</th>\n",
       "    </tr>\n",
       "  </thead>\n",
       "  <tbody>\n",
       "    <tr>\n",
       "      <th>7</th>\n",
       "      <td>Pierre-Emerick Aubameyang</td>\n",
       "      <td>65.0</td>\n",
       "      <td>63.75</td>\n",
       "      <td>Centre-Forward</td>\n",
       "      <td>Pierre-Emerick  Aubameyang</td>\n",
       "      <td>0.980392</td>\n",
       "      <td>25867.0</td>\n",
       "      <td>Pierre-Emerick  Aubameyang</td>\n",
       "      <td>0.737705</td>\n",
       "      <td>0.819672</td>\n",
       "      <td>0.491803</td>\n",
       "      <td>7.295082</td>\n",
       "      <td>0.983607</td>\n",
       "      <td>0.491803</td>\n",
       "    </tr>\n",
       "    <tr>\n",
       "      <th>24</th>\n",
       "      <td>Alex Oxlade-Chamberlain</td>\n",
       "      <td>22.0</td>\n",
       "      <td>38.00</td>\n",
       "      <td>Central Midfield</td>\n",
       "      <td>Alex  Oxlade-Chamberlain</td>\n",
       "      <td>0.978723</td>\n",
       "      <td>7868.0</td>\n",
       "      <td>Alex  Oxlade-Chamberlain</td>\n",
       "      <td>0.743392</td>\n",
       "      <td>1.090308</td>\n",
       "      <td>0.594714</td>\n",
       "      <td>8.226872</td>\n",
       "      <td>1.635463</td>\n",
       "      <td>1.189427</td>\n",
       "    </tr>\n",
       "    <tr>\n",
       "      <th>114</th>\n",
       "      <td>Konstantinos Mitroglou</td>\n",
       "      <td>12.0</td>\n",
       "      <td>15.00</td>\n",
       "      <td>Centre-Forward</td>\n",
       "      <td>Konstantinos  Mitroglou</td>\n",
       "      <td>0.977778</td>\n",
       "      <td>93331.0</td>\n",
       "      <td>Konstantinos  Mitroglou</td>\n",
       "      <td>2.557377</td>\n",
       "      <td>0.098361</td>\n",
       "      <td>0.196721</td>\n",
       "      <td>2.852459</td>\n",
       "      <td>0.786885</td>\n",
       "      <td>0.196721</td>\n",
       "    </tr>\n",
       "    <tr>\n",
       "      <th>19</th>\n",
       "      <td>Federico Bernardeschi</td>\n",
       "      <td>30.0</td>\n",
       "      <td>40.00</td>\n",
       "      <td>Right Winger</td>\n",
       "      <td>Federico  Bernardeschi</td>\n",
       "      <td>0.976744</td>\n",
       "      <td>246061.0</td>\n",
       "      <td>Federico  Bernardeschi</td>\n",
       "      <td>0.308219</td>\n",
       "      <td>0.308219</td>\n",
       "      <td>1.232877</td>\n",
       "      <td>5.136986</td>\n",
       "      <td>1.438356</td>\n",
       "      <td>1.335616</td>\n",
       "    </tr>\n",
       "    <tr>\n",
       "      <th>186</th>\n",
       "      <td>Allan Saint-Maximin</td>\n",
       "      <td>3.0</td>\n",
       "      <td>10.00</td>\n",
       "      <td>Left Winger</td>\n",
       "      <td>Allan  Saint-Maximin</td>\n",
       "      <td>0.974359</td>\n",
       "      <td>276211.0</td>\n",
       "      <td>Allan  Saint-Maximin</td>\n",
       "      <td>0.423983</td>\n",
       "      <td>0.501071</td>\n",
       "      <td>0.077088</td>\n",
       "      <td>8.248394</td>\n",
       "      <td>0.616702</td>\n",
       "      <td>0.462527</td>\n",
       "    </tr>\n",
       "  </tbody>\n",
       "</table>\n",
       "</div>"
      ],
      "text/plain": [
       "                   Player Name  Market Value (m€)  Fee (m€)          Position  \\\n",
       "7    Pierre-Emerick Aubameyang               65.0     63.75    Centre-Forward   \n",
       "24     Alex Oxlade-Chamberlain               22.0     38.00  Central Midfield   \n",
       "114     Konstantinos Mitroglou               12.0     15.00    Centre-Forward   \n",
       "19       Federico Bernardeschi               30.0     40.00      Right Winger   \n",
       "186        Allan Saint-Maximin                3.0     10.00       Left Winger   \n",
       "\n",
       "                   Matched_Name  Similarity_Score  Player_Id  \\\n",
       "7    Pierre-Emerick  Aubameyang          0.980392    25867.0   \n",
       "24     Alex  Oxlade-Chamberlain          0.978723     7868.0   \n",
       "114     Konstantinos  Mitroglou          0.977778    93331.0   \n",
       "19       Federico  Bernardeschi          0.976744   246061.0   \n",
       "186        Allan  Saint-Maximin          0.974359   276211.0   \n",
       "\n",
       "                      Full_Name  Air_Duels_Won  Interceptions  Clearances  \\\n",
       "7    Pierre-Emerick  Aubameyang       0.737705       0.819672    0.491803   \n",
       "24     Alex  Oxlade-Chamberlain       0.743392       1.090308    0.594714   \n",
       "114     Konstantinos  Mitroglou       2.557377       0.098361    0.196721   \n",
       "19       Federico  Bernardeschi       0.308219       0.308219    1.232877   \n",
       "186        Allan  Saint-Maximin       0.423983       0.501071    0.077088   \n",
       "\n",
       "     Turnovers  Loose_Ball_Duels_Won  Defensive_Duels_Won  \n",
       "7     7.295082              0.983607             0.491803  \n",
       "24    8.226872              1.635463             1.189427  \n",
       "114   2.852459              0.786885             0.196721  \n",
       "19    5.136986              1.438356             1.335616  \n",
       "186   8.248394              0.616702             0.462527  "
      ]
     },
     "execution_count": 23,
     "metadata": {},
     "output_type": "execute_result"
    }
   ],
   "source": [
    "combined_df.dropna().sort_values(by=\"Similarity_Score\", ascending=False).head(5)"
   ]
  },
  {
   "cell_type": "markdown",
   "metadata": {},
   "source": [
    "# Step 4. Analysis"
   ]
  },
  {
   "cell_type": "code",
   "execution_count": 31,
   "metadata": {},
   "outputs": [
    {
     "name": "stderr",
     "output_type": "stream",
     "text": [
      "C:\\Users\\Philipp\\AppData\\Local\\Temp\\ipykernel_16520\\958271422.py:7: SettingWithCopyWarning: \n",
      "A value is trying to be set on a copy of a slice from a DataFrame.\n",
      "Try using .loc[row_indexer,col_indexer] = value instead\n",
      "\n",
      "See the caveats in the documentation: https://pandas.pydata.org/pandas-docs/stable/user_guide/indexing.html#returning-a-view-versus-a-copy\n",
      "  combined_df['Market_Value_Bin'] = pd.cut(\n",
      "c:\\Users\\Philipp\\miniforge3\\envs\\mgeneral\\Lib\\site-packages\\sklearn\\cluster\\_kmeans.py:1412: FutureWarning: The default value of `n_init` will change from 10 to 'auto' in 1.4. Set the value of `n_init` explicitly to suppress the warning\n",
      "  super()._check_params_vs_input(X, default_n_init=10)\n",
      "c:\\Users\\Philipp\\miniforge3\\envs\\mgeneral\\Lib\\site-packages\\sklearn\\cluster\\_kmeans.py:1436: UserWarning: KMeans is known to have a memory leak on Windows with MKL, when there are less chunks than available threads. You can avoid it by setting the environment variable OMP_NUM_THREADS=1.\n",
      "  warnings.warn(\n"
     ]
    }
   ],
   "source": [
    "# drop nan rows\n",
    "combined_df = combined_df.dropna()\n",
    "\n",
    "labels = [\"<5\", \"5-10\", \"10-20\", \"20-30\", \"30-40\", \"40-50\", \"50-60\", \"60-70\", \">70\"]\n",
    "\n",
    "# Put the market value into nins\n",
    "combined_df[\"Market_Value_Bin\"] = pd.cut(\n",
    "    combined_df[\"Market Value (m€)\"],\n",
    "    bins=[0, 5, 10, 20, 30, 40, 50, 60, 70, 80],\n",
    "    labels=labels\n",
    ")\n",
    " \n",
    "# Fit clustering model on the market value with corresponadnce to bins\n",
    "kmeans = KMeans(n_clusters=9, random_state=0).fit(combined_df[[\"Market Value (m€)\"]])"
   ]
  },
  {
   "cell_type": "code",
   "execution_count": null,
   "metadata": {},
   "outputs": [],
   "source": [
    "# Cluster the player statistics\n",
    "from sklearn.preprocessing import StandardScaler\n",
    "from sklearn.cluster import KMeans\n",
    "\n",
    "# Scale the data\n",
    "scaler = StandardScaler()\n",
    "\n",
    "# Select the columns to scale\n",
    "cols_to_scale = [\n",
    "    \"Air_Duels_Won\", \"Interceptions\", \"Clearances\", \n",
    "    \"Turnovers\", \"Loose_Ball_Duels_Won\", \"Defensive_Duels_Won\"\n",
    "]\n",
    "\n",
    "# Scale the columns\n",
    "combined_df[cols_to_scale] = scaler.fit_transform(combined_df[cols_to_scale])\n",
    "\n",
    "# Perform clustering\n",
    "kmeans = KMeans(n_clusters=5, random_state=0).fit(combined_df[cols_to_scale])\n",
    "\n",
    "# Add the cluster labels to the dataframe\n",
    "combined_df[\"Cluster\"] = kmeans.labels_"
   ]
  },
  {
   "cell_type": "code",
   "execution_count": 33,
   "metadata": {},
   "outputs": [
    {
     "name": "stderr",
     "output_type": "stream",
     "text": [
      "C:\\Users\\Philipp\\AppData\\Local\\Temp\\ipykernel_16520\\2081270414.py:13: SettingWithCopyWarning: \n",
      "A value is trying to be set on a copy of a slice from a DataFrame.\n",
      "Try using .loc[row_indexer,col_indexer] = value instead\n",
      "\n",
      "See the caveats in the documentation: https://pandas.pydata.org/pandas-docs/stable/user_guide/indexing.html#returning-a-view-versus-a-copy\n",
      "  combined_df['PCA_1'] = pca_features[:,0]\n",
      "C:\\Users\\Philipp\\AppData\\Local\\Temp\\ipykernel_16520\\2081270414.py:14: SettingWithCopyWarning: \n",
      "A value is trying to be set on a copy of a slice from a DataFrame.\n",
      "Try using .loc[row_indexer,col_indexer] = value instead\n",
      "\n",
      "See the caveats in the documentation: https://pandas.pydata.org/pandas-docs/stable/user_guide/indexing.html#returning-a-view-versus-a-copy\n",
      "  combined_df['PCA_2'] = pca_features[:,1]\n",
      "c:\\Users\\Philipp\\miniforge3\\envs\\mgeneral\\Lib\\site-packages\\seaborn\\_oldcore.py:1498: FutureWarning: is_categorical_dtype is deprecated and will be removed in a future version. Use isinstance(dtype, CategoricalDtype) instead\n",
      "  if pd.api.types.is_categorical_dtype(vector):\n",
      "c:\\Users\\Philipp\\miniforge3\\envs\\mgeneral\\Lib\\site-packages\\seaborn\\_oldcore.py:1498: FutureWarning: is_categorical_dtype is deprecated and will be removed in a future version. Use isinstance(dtype, CategoricalDtype) instead\n",
      "  if pd.api.types.is_categorical_dtype(vector):\n",
      "c:\\Users\\Philipp\\miniforge3\\envs\\mgeneral\\Lib\\site-packages\\seaborn\\_oldcore.py:1498: FutureWarning: is_categorical_dtype is deprecated and will be removed in a future version. Use isinstance(dtype, CategoricalDtype) instead\n",
      "  if pd.api.types.is_categorical_dtype(vector):\n",
      "c:\\Users\\Philipp\\miniforge3\\envs\\mgeneral\\Lib\\site-packages\\seaborn\\_oldcore.py:1498: FutureWarning: is_categorical_dtype is deprecated and will be removed in a future version. Use isinstance(dtype, CategoricalDtype) instead\n",
      "  if pd.api.types.is_categorical_dtype(vector):\n"
     ]
    },
    {
     "data": {
      "text/plain": [
       "<Axes: xlabel='PCA_1', ylabel='PCA_2'>"
      ]
     },
     "execution_count": 33,
     "metadata": {},
     "output_type": "execute_result"
    },
    {
     "data": {
      "image/png": "[encoded data removed]",
      "text/plain": [
       "<Figure size 640x480 with 1 Axes>"
      ]
     },
     "metadata": {},
     "output_type": "display_data"
    }
   ],
   "source": [
    "# PCA THE Data to visualise the clusters\n",
    "from sklearn.decomposition import PCA\n",
    "\n",
    "pca = PCA(n_components=2)\n",
    "pca.fit(combined_df[cols_to_scale])\n",
    "\n",
    "# Transform the data\n",
    "pca_features = pca.transform(combined_df[cols_to_scale])\n",
    "\n",
    "# Add the PCA features to the dataframe\n",
    "\n",
    "combined_df[\"PCA_1\"] = pca_features[:,0]\n",
    "combined_df[\"PCA_2\"] = pca_features[:,1]\n",
    "\n",
    "# Plot the clusters\n",
    "import matplotlib.pyplot as plt\n",
    "import seaborn as sns\n",
    "\n",
    "sns.scatterplot(\n",
    "    x=\"PCA_1\", y=\"PCA_2\",\n",
    "    hue=\"Cluster\",\n",
    "    palette=sns.color_palette(\"hls\", 5),\n",
    "    data=combined_df,\n",
    "    legend=\"full\",\n",
    "    alpha=0.3\n",
    ")"
   ]
  },
  {
   "cell_type": "code",
   "execution_count": 37,
   "metadata": {},
   "outputs": [
    {
     "data": {
      "image/png": "[encoded data removed]",
      "text/plain": [
       "<Figure size 1000x600 with 1 Axes>"
      ]
     },
     "metadata": {},
     "output_type": "display_data"
    }
   ],
   "source": [
    "import warnings\n",
    "warnings.filterwarnings(\"ignore\")\n",
    "\n",
    "# Selecting the performance-related features for clustering\n",
    "performance_features = combined_df[[\"Air_Duels_Won\", \"Interceptions\", \"Clearances\", \"Turnovers\", \"Loose_Ball_Duels_Won\", \"Defensive_Duels_Won\"]]\n",
    "\n",
    "# Standardizing the data\n",
    "scaler = StandardScaler()\n",
    "performance_scaled = scaler.fit_transform(performance_features)\n",
    "\n",
    "# Finding the optimal number of clusters using the Elbow Method\n",
    "inertia = []\n",
    "for k in range(1, 11):\n",
    "    kmeans = KMeans(n_clusters=k, random_state=42)\n",
    "    kmeans.fit(performance_scaled)\n",
    "    inertia.append(kmeans.inertia_)\n",
    "\n",
    "# Plotting the Elbow Curve\n",
    "plt.figure(figsize=(10, 6))\n",
    "plt.plot(range(1, 11), inertia, marker=\"o\")\n",
    "plt.title(\"Elbow Method for Optimal K\")\n",
    "plt.xlabel(\"Number of clusters\")\n",
    "plt.ylabel(\"Inertia\")\n",
    "plt.show()"
   ]
  },
  {
   "cell_type": "code",
   "execution_count": 40,
   "metadata": {},
   "outputs": [
    {
     "data": {
      "image/png": "[encoded data removed]",
      "text/plain": [
       "<Figure size 1000x600 with 1 Axes>"
      ]
     },
     "metadata": {},
     "output_type": "display_data"
    }
   ],
   "source": [
    "# Creating a scatter plot for interceptions vs market value\n",
    "plt.figure(figsize=(10, 6))\n",
    "sns.regplot(x=\"Interceptions\", y=\"Market Value (m€)\", data=combined_df, fit_reg=True, scatter_kws={\"alpha\":0.5})\n",
    "plt.title(\"Market Value vs Interceptions\")\n",
    "plt.xlabel(\"Interceptions\")\n",
    "plt.ylabel(\"Market Value (m€)\")\n",
    "plt.show()\n"
   ]
  },
  {
   "cell_type": "code",
   "execution_count": 47,
   "metadata": {},
   "outputs": [],
   "source": [
    "combined_df[\"Position\"].unique()\n",
    "\n",
    "# Defender positions in dataset\n",
    "defender_pos = [\"Centre-Back\", \"Left-Back\", \"Right-Back\", \"Defensive Midfield\"]"
   ]
  },
  {
   "cell_type": "code",
   "execution_count": 49,
   "metadata": {},
   "outputs": [
    {
     "data": {
      "application/vnd.plotly.v1+json": {
       "config": {
        "plotlyServerURL": "https://plot.ly"
       },
       "data": [
        {
         "customdata": [
          [
           "Virgil van Dijk"
          ],
          [
           "Aymeric Laporte"
          ],
          [
           "Kyle Walker"
          ],
          [
           "Nemanja Matic"
          ],
          [
           "Leonardo Bonucci"
          ],
          [
           "Davinson Sánchez"
          ],
          [
           "Tiemoué Bakayoko"
          ],
          [
           "Antonio Rüdiger"
          ],
          [
           "Milan Skriniar"
          ],
          [
           "Alessandro Bastoni"
          ],
          [
           "Michael Keane"
          ],
          [
           "Mamadou Sakho"
          ],
          [
           "Serge Aurier"
          ],
          [
           "Andrea Conti"
          ],
          [
           "Hakan Çalhanoğlu"
          ],
          [
           "Nathan Aké"
          ],
          [
           "Manuel Akanji"
          ],
          [
           "Niklas Süle"
          ],
          [
           "Kevin Wimmer"
          ],
          [
           "Mateo Musacchio"
          ],
          [
           "Panagiotis Retsos"
          ],
          [
           "Mario Lemina"
          ],
          [
           "Matthias Ginter"
          ],
          [
           "John Anthony Brooks"
          ],
          [
           "Marten de Roon"
          ],
          [
           "Yuri Berchiche"
          ],
          [
           "Wesley Hoedt"
          ],
          [
           "Terence Kongolo"
          ],
          [
           "Francis Coquelin"
          ],
          [
           "Harry Maguire"
          ],
          [
           "Sven Bender"
          ],
          [
           "Ömer Toprak"
          ],
          [
           "Mattia De Sciglio"
          ],
          [
           "Luiz Gustavo"
          ],
          [
           "Florian Lejeune"
          ],
          [
           "Jack Cork"
          ],
          [
           "Andrew Robertson"
          ],
          [
           "Jairo Riedewald"
          ],
          [
           "Kévin Malcuit"
          ],
          [
           "Nicola Murru"
          ],
          [
           "Håvard Nordtveit"
          ],
          [
           "Bruno Martins Indi"
          ],
          [
           "Kieran Gibbs"
          ],
          [
           "Filippo Romagna"
          ]
         ],
         "hovertemplate": "Interceptions=%{x}<br>Market Value (Million €)=%{y}<br>Player Name=%{customdata[0]}<extra></extra>",
         "legendgroup": "",
         "marker": {
          "color": "#636efa",
          "symbol": "circle"
         },
         "mode": "markers",
         "name": "",
         "orientation": "v",
         "showlegend": false,
         "type": "scatter",
         "x": [
          2.935196950444727,
          2.694610778443114,
          2.139903514817368,
          2.81767955801105,
          2.1448467966573816,
          1.827754795035728,
          1.665162454873646,
          1.3630781825624232,
          2.647058823529412,
          0.1832993890020366,
          2.791479820627803,
          3.521974714027694,
          2.425876010781672,
          1.7355371900826446,
          0.8768821966341895,
          2.7465385702175755,
          2.20682302771855,
          2.187341772151899,
          2.7861771058315337,
          2.3404255319148937,
          2.181510710259301,
          1.7,
          1.3929248262792169,
          2.174496644295302,
          2.6077265973254087,
          2.1864406779661016,
          2.5850340136054424,
          2.4523160762942777,
          2.616279069767442,
          3.011712214166202,
          2.5289256198347108,
          2.1050119331742243,
          1.987951807228916,
          1.6687979539641944,
          2.6205641492265697,
          2.518186905428092,
          1.9234592445328031,
          1.6632443531827514,
          2.11087420042644,
          2.384105960264901,
          2.427572427572428,
          2.1561051004636784,
          2.681110358835477,
          1.809045226130653
         ],
         "xaxis": "x",
         "y": [
          30,
          25,
          30,
          35,
          45,
          25,
          16,
          25,
          7,
          1.5,
          18,
          15,
          15,
          10,
          20,
          8,
          5,
          25,
          7,
          18,
          5,
          7.5,
          15,
          14,
          10,
          10,
          7.5,
          10,
          12,
          8,
          7,
          16,
          8.5,
          12,
          5,
          5,
          7,
          5,
          3,
          2.5,
          5,
          11,
          10,
          1
         ],
         "yaxis": "y"
        },
        {
         "hovertemplate": "<b>OLS trendline</b><br>Market Value (m€) = 1.22854 * Interceptions + 10.4018<br>R<sup>2</sup>=0.005681<br><br>Interceptions=%{x}<br>Market Value (Million €)=%{y} <b>(trend)</b><extra></extra>",
         "legendgroup": "",
         "marker": {
          "color": "#636efa",
          "symbol": "circle"
         },
         "mode": "lines",
         "name": "",
         "showlegend": false,
         "type": "scatter",
         "x": [
          0.1832993890020366,
          0.8768821966341895,
          1.3630781825624232,
          1.3929248262792169,
          1.6632443531827514,
          1.665162454873646,
          1.6687979539641944,
          1.7,
          1.7355371900826446,
          1.809045226130653,
          1.827754795035728,
          1.9234592445328031,
          1.987951807228916,
          2.1050119331742243,
          2.11087420042644,
          2.139903514817368,
          2.1448467966573816,
          2.1561051004636784,
          2.174496644295302,
          2.181510710259301,
          2.1864406779661016,
          2.187341772151899,
          2.20682302771855,
          2.3404255319148937,
          2.384105960264901,
          2.425876010781672,
          2.427572427572428,
          2.4523160762942777,
          2.518186905428092,
          2.5289256198347108,
          2.5850340136054424,
          2.6077265973254087,
          2.616279069767442,
          2.6205641492265697,
          2.647058823529412,
          2.681110358835477,
          2.694610778443114,
          2.7465385702175755,
          2.7861771058315337,
          2.791479820627803,
          2.81767955801105,
          2.935196950444727,
          3.011712214166202,
          3.521974714027694
         ],
         "xaxis": "x",
         "y": [
          10.627000242803827,
          11.479091280710259,
          12.076400264896108,
          12.113067923527222,
          12.445165033938542,
          12.44752148978292,
          12.451987829143246,
          12.490320647516038,
          12.53397934385134,
          12.624286568945983,
          12.647271936823731,
          12.76484824178237,
          12.844079638639775,
          12.987892148287646,
          12.99509415118111,
          13.03075769179499,
          13.036830688569667,
          13.05066191343541,
          13.073256576249632,
          13.081873604643995,
          13.087930244534586,
          13.089037270648236,
          13.112970682914003,
          13.277106089984152,
          13.330769042870802,
          13.3820850289457,
          13.384169137040725,
          13.41456758563113,
          13.495492231609605,
          13.508685122499958,
          13.577616270961645,
          13.60549491357209,
          13.61600192879739,
          13.621266300641185,
          13.653815946159035,
          13.695649462996496,
          13.712235206514153,
          13.776030337394555,
          13.824727681937592,
          13.831242254826012,
          13.863429559894863,
          14.007803837614816,
          14.101805548387748,
          14.728681097099884
         ],
         "yaxis": "y"
        }
       ],
       "layout": {
        "legend": {
         "tracegroupgap": 0
        },
        "template": {
         "data": {
          "bar": [
           {
            "error_x": {
             "color": "#2a3f5f"
            },
            "error_y": {
             "color": "#2a3f5f"
            },
            "marker": {
             "line": {
              "color": "#E5ECF6",
              "width": 0.5
             },
             "pattern": {
              "fillmode": "overlay",
              "size": 10,
              "solidity": 0.2
             }
            },
            "type": "bar"
           }
          ],
          "barpolar": [
           {
            "marker": {
             "line": {
              "color": "#E5ECF6",
              "width": 0.5
             },
             "pattern": {
              "fillmode": "overlay",
              "size": 10,
              "solidity": 0.2
             }
            },
            "type": "barpolar"
           }
          ],
          "carpet": [
           {
            "aaxis": {
             "endlinecolor": "#2a3f5f",
             "gridcolor": "white",
             "linecolor": "white",
             "minorgridcolor": "white",
             "startlinecolor": "#2a3f5f"
            },
            "baxis": {
             "endlinecolor": "#2a3f5f",
             "gridcolor": "white",
             "linecolor": "white",
             "minorgridcolor": "white",
             "startlinecolor": "#2a3f5f"
            },
            "type": "carpet"
           }
          ],
          "choropleth": [
           {
            "colorbar": {
             "outlinewidth": 0,
             "ticks": ""
            },
            "type": "choropleth"
           }
          ],
          "contour": [
           {
            "colorbar": {
             "outlinewidth": 0,
             "ticks": ""
            },
            "colorscale": [
             [
              0,
              "#0d0887"
             ],
             [
              0.1111111111111111,
              "#46039f"
             ],
             [
              0.2222222222222222,
              "#7201a8"
             ],
             [
              0.3333333333333333,
              "#9c179e"
             ],
             [
              0.4444444444444444,
              "#bd3786"
             ],
             [
              0.5555555555555556,
              "#d8576b"
             ],
             [
              0.6666666666666666,
              "#ed7953"
             ],
             [
              0.7777777777777778,
              "#fb9f3a"
             ],
             [
              0.8888888888888888,
              "#fdca26"
             ],
             [
              1,
              "#f0f921"
             ]
            ],
            "type": "contour"
           }
          ],
          "contourcarpet": [
           {
            "colorbar": {
             "outlinewidth": 0,
             "ticks": ""
            },
            "type": "contourcarpet"
           }
          ],
          "heatmap": [
           {
            "colorbar": {
             "outlinewidth": 0,
             "ticks": ""
            },
            "colorscale": [
             [
              0,
              "#0d0887"
             ],
             [
              0.1111111111111111,
              "#46039f"
             ],
             [
              0.2222222222222222,
              "#7201a8"
             ],
             [
              0.3333333333333333,
              "#9c179e"
             ],
             [
              0.4444444444444444,
              "#bd3786"
             ],
             [
              0.5555555555555556,
              "#d8576b"
             ],
             [
              0.6666666666666666,
              "#ed7953"
             ],
             [
              0.7777777777777778,
              "#fb9f3a"
             ],
             [
              0.8888888888888888,
              "#fdca26"
             ],
             [
              1,
              "#f0f921"
             ]
            ],
            "type": "heatmap"
           }
          ],
          "heatmapgl": [
           {
            "colorbar": {
             "outlinewidth": 0,
             "ticks": ""
            },
            "colorscale": [
             [
              0,
              "#0d0887"
             ],
             [
              0.1111111111111111,
              "#46039f"
             ],
             [
              0.2222222222222222,
              "#7201a8"
             ],
             [
              0.3333333333333333,
              "#9c179e"
             ],
             [
              0.4444444444444444,
              "#bd3786"
             ],
             [
              0.5555555555555556,
              "#d8576b"
             ],
             [
              0.6666666666666666,
              "#ed7953"
             ],
             [
              0.7777777777777778,
              "#fb9f3a"
             ],
             [
              0.8888888888888888,
              "#fdca26"
             ],
             [
              1,
              "#f0f921"
             ]
            ],
            "type": "heatmapgl"
           }
          ],
          "histogram": [
           {
            "marker": {
             "pattern": {
              "fillmode": "overlay",
              "size": 10,
              "solidity": 0.2
             }
            },
            "type": "histogram"
           }
          ],
          "histogram2d": [
           {
            "colorbar": {
             "outlinewidth": 0,
             "ticks": ""
            },
            "colorscale": [
             [
              0,
              "#0d0887"
             ],
             [
              0.1111111111111111,
              "#46039f"
             ],
             [
              0.2222222222222222,
              "#7201a8"
             ],
             [
              0.3333333333333333,
              "#9c179e"
             ],
             [
              0.4444444444444444,
              "#bd3786"
             ],
             [
              0.5555555555555556,
              "#d8576b"
             ],
             [
              0.6666666666666666,
              "#ed7953"
             ],
             [
              0.7777777777777778,
              "#fb9f3a"
             ],
             [
              0.8888888888888888,
              "#fdca26"
             ],
             [
              1,
              "#f0f921"
             ]
            ],
            "type": "histogram2d"
           }
          ],
          "histogram2dcontour": [
           {
            "colorbar": {
             "outlinewidth": 0,
             "ticks": ""
            },
            "colorscale": [
             [
              0,
              "#0d0887"
             ],
             [
              0.1111111111111111,
              "#46039f"
             ],
             [
              0.2222222222222222,
              "#7201a8"
             ],
             [
              0.3333333333333333,
              "#9c179e"
             ],
             [
              0.4444444444444444,
              "#bd3786"
             ],
             [
              0.5555555555555556,
              "#d8576b"
             ],
             [
              0.6666666666666666,
              "#ed7953"
             ],
             [
              0.7777777777777778,
              "#fb9f3a"
             ],
             [
              0.8888888888888888,
              "#fdca26"
             ],
             [
              1,
              "#f0f921"
             ]
            ],
            "type": "histogram2dcontour"
           }
          ],
          "mesh3d": [
           {
            "colorbar": {
             "outlinewidth": 0,
             "ticks": ""
            },
            "type": "mesh3d"
           }
          ],
          "parcoords": [
           {
            "line": {
             "colorbar": {
              "outlinewidth": 0,
              "ticks": ""
             }
            },
            "type": "parcoords"
           }
          ],
          "pie": [
           {
            "automargin": true,
            "type": "pie"
           }
          ],
          "scatter": [
           {
            "fillpattern": {
             "fillmode": "overlay",
             "size": 10,
             "solidity": 0.2
            },
            "type": "scatter"
           }
          ],
          "scatter3d": [
           {
            "line": {
             "colorbar": {
              "outlinewidth": 0,
              "ticks": ""
             }
            },
            "marker": {
             "colorbar": {
              "outlinewidth": 0,
              "ticks": ""
             }
            },
            "type": "scatter3d"
           }
          ],
          "scattercarpet": [
           {
            "marker": {
             "colorbar": {
              "outlinewidth": 0,
              "ticks": ""
             }
            },
            "type": "scattercarpet"
           }
          ],
          "scattergeo": [
           {
            "marker": {
             "colorbar": {
              "outlinewidth": 0,
              "ticks": ""
             }
            },
            "type": "scattergeo"
           }
          ],
          "scattergl": [
           {
            "marker": {
             "colorbar": {
              "outlinewidth": 0,
              "ticks": ""
             }
            },
            "type": "scattergl"
           }
          ],
          "scattermapbox": [
           {
            "marker": {
             "colorbar": {
              "outlinewidth": 0,
              "ticks": ""
             }
            },
            "type": "scattermapbox"
           }
          ],
          "scatterpolar": [
           {
            "marker": {
             "colorbar": {
              "outlinewidth": 0,
              "ticks": ""
             }
            },
            "type": "scatterpolar"
           }
          ],
          "scatterpolargl": [
           {
            "marker": {
             "colorbar": {
              "outlinewidth": 0,
              "ticks": ""
             }
            },
            "type": "scatterpolargl"
           }
          ],
          "scatterternary": [
           {
            "marker": {
             "colorbar": {
              "outlinewidth": 0,
              "ticks": ""
             }
            },
            "type": "scatterternary"
           }
          ],
          "surface": [
           {
            "colorbar": {
             "outlinewidth": 0,
             "ticks": ""
            },
            "colorscale": [
             [
              0,
              "#0d0887"
             ],
             [
              0.1111111111111111,
              "#46039f"
             ],
             [
              0.2222222222222222,
              "#7201a8"
             ],
             [
              0.3333333333333333,
              "#9c179e"
             ],
             [
              0.4444444444444444,
              "#bd3786"
             ],
             [
              0.5555555555555556,
              "#d8576b"
             ],
             [
              0.6666666666666666,
              "#ed7953"
             ],
             [
              0.7777777777777778,
              "#fb9f3a"
             ],
             [
              0.8888888888888888,
              "#fdca26"
             ],
             [
              1,
              "#f0f921"
             ]
            ],
            "type": "surface"
           }
          ],
          "table": [
           {
            "cells": {
             "fill": {
              "color": "#EBF0F8"
             },
             "line": {
              "color": "white"
             }
            },
            "header": {
             "fill": {
              "color": "#C8D4E3"
             },
             "line": {
              "color": "white"
             }
            },
            "type": "table"
           }
          ]
         },
         "layout": {
          "annotationdefaults": {
           "arrowcolor": "#2a3f5f",
           "arrowhead": 0,
           "arrowwidth": 1
          },
          "autotypenumbers": "strict",
          "coloraxis": {
           "colorbar": {
            "outlinewidth": 0,
            "ticks": ""
           }
          },
          "colorscale": {
           "diverging": [
            [
             0,
             "#8e0152"
            ],
            [
             0.1,
             "#c51b7d"
            ],
            [
             0.2,
             "#de77ae"
            ],
            [
             0.3,
             "#f1b6da"
            ],
            [
             0.4,
             "#fde0ef"
            ],
            [
             0.5,
             "#f7f7f7"
            ],
            [
             0.6,
             "#e6f5d0"
            ],
            [
             0.7,
             "#b8e186"
            ],
            [
             0.8,
             "#7fbc41"
            ],
            [
             0.9,
             "#4d9221"
            ],
            [
             1,
             "#276419"
            ]
           ],
           "sequential": [
            [
             0,
             "#0d0887"
            ],
            [
             0.1111111111111111,
             "#46039f"
            ],
            [
             0.2222222222222222,
             "#7201a8"
            ],
            [
             0.3333333333333333,
             "#9c179e"
            ],
            [
             0.4444444444444444,
             "#bd3786"
            ],
            [
             0.5555555555555556,
             "#d8576b"
            ],
            [
             0.6666666666666666,
             "#ed7953"
            ],
            [
             0.7777777777777778,
             "#fb9f3a"
            ],
            [
             0.8888888888888888,
             "#fdca26"
            ],
            [
             1,
             "#f0f921"
            ]
           ],
           "sequentialminus": [
            [
             0,
             "#0d0887"
            ],
            [
             0.1111111111111111,
             "#46039f"
            ],
            [
             0.2222222222222222,
             "#7201a8"
            ],
            [
             0.3333333333333333,
             "#9c179e"
            ],
            [
             0.4444444444444444,
             "#bd3786"
            ],
            [
             0.5555555555555556,
             "#d8576b"
            ],
            [
             0.6666666666666666,
             "#ed7953"
            ],
            [
             0.7777777777777778,
             "#fb9f3a"
            ],
            [
             0.8888888888888888,
             "#fdca26"
            ],
            [
             1,
             "#f0f921"
            ]
           ]
          },
          "colorway": [
           "#636efa",
           "#EF553B",
           "#00cc96",
           "#ab63fa",
           "#FFA15A",
           "#19d3f3",
           "#FF6692",
           "#B6E880",
           "#FF97FF",
           "#FECB52"
          ],
          "font": {
           "color": "#2a3f5f"
          },
          "geo": {
           "bgcolor": "white",
           "lakecolor": "white",
           "landcolor": "#E5ECF6",
           "showlakes": true,
           "showland": true,
           "subunitcolor": "white"
          },
          "hoverlabel": {
           "align": "left"
          },
          "hovermode": "closest",
          "mapbox": {
           "style": "light"
          },
          "paper_bgcolor": "white",
          "plot_bgcolor": "#E5ECF6",
          "polar": {
           "angularaxis": {
            "gridcolor": "white",
            "linecolor": "white",
            "ticks": ""
           },
           "bgcolor": "#E5ECF6",
           "radialaxis": {
            "gridcolor": "white",
            "linecolor": "white",
            "ticks": ""
           }
          },
          "scene": {
           "xaxis": {
            "backgroundcolor": "#E5ECF6",
            "gridcolor": "white",
            "gridwidth": 2,
            "linecolor": "white",
            "showbackground": true,
            "ticks": "",
            "zerolinecolor": "white"
           },
           "yaxis": {
            "backgroundcolor": "#E5ECF6",
            "gridcolor": "white",
            "gridwidth": 2,
            "linecolor": "white",
            "showbackground": true,
            "ticks": "",
            "zerolinecolor": "white"
           },
           "zaxis": {
            "backgroundcolor": "#E5ECF6",
            "gridcolor": "white",
            "gridwidth": 2,
            "linecolor": "white",
            "showbackground": true,
            "ticks": "",
            "zerolinecolor": "white"
           }
          },
          "shapedefaults": {
           "line": {
            "color": "#2a3f5f"
           }
          },
          "ternary": {
           "aaxis": {
            "gridcolor": "white",
            "linecolor": "white",
            "ticks": ""
           },
           "baxis": {
            "gridcolor": "white",
            "linecolor": "white",
            "ticks": ""
           },
           "bgcolor": "#E5ECF6",
           "caxis": {
            "gridcolor": "white",
            "linecolor": "white",
            "ticks": ""
           }
          },
          "title": {
           "x": 0.05
          },
          "xaxis": {
           "automargin": true,
           "gridcolor": "white",
           "linecolor": "white",
           "ticks": "",
           "title": {
            "standoff": 15
           },
           "zerolinecolor": "white",
           "zerolinewidth": 2
          },
          "yaxis": {
           "automargin": true,
           "gridcolor": "white",
           "linecolor": "white",
           "ticks": "",
           "title": {
            "standoff": 15
           },
           "zerolinecolor": "white",
           "zerolinewidth": 2
          }
         }
        },
        "title": {
         "text": "Interactive Scatter Plot with Regression Line: Market Value vs Interceptions"
        },
        "xaxis": {
         "anchor": "y",
         "domain": [
          0,
          1
         ],
         "title": {
          "text": "Interceptions"
         }
        },
        "yaxis": {
         "anchor": "x",
         "domain": [
          0,
          1
         ],
         "title": {
          "text": "Market Value (Million €)"
         }
        }
       }
      }
     },
     "metadata": {},
     "output_type": "display_data"
    }
   ],
   "source": [
    "# filter certain positions\n",
    "df_defender = combined_df[combined_df[\"Position\"].isin(defender_pos)]\n",
    "\n",
    "import plotly.express as px\n",
    "\n",
    "fig = px.scatter(df_defender, x=\"Interceptions\", y=\"Market Value (m€)\", \n",
    "                 hover_data=[\"Player Name\"], \n",
    "                 trendline=\"ols\",  # Ordinary Least Squares regression\n",
    "                 title=\"Interactive Scatter Plot with Regression Line: Market Value vs Interceptions\",\n",
    "                 labels={\"Interceptions\": \"Interceptions\", \"Market Value (m€)\": \"Market Value (Million €)\"})\n",
    "\n",
    "fig.show()"
   ]
  }
 ],
 "metadata": {
  "kernelspec": {
   "display_name": "mgeneral",
   "language": "python",
   "name": "python3"
  },
  "language_info": {
   "codemirror_mode": {
    "name": "ipython",
    "version": 3
   },
   "file_extension": ".py",
   "mimetype": "text/x-python",
   "name": "python",
   "nbconvert_exporter": "python",
   "pygments_lexer": "ipython3",
   "version": "3.11.5"
  }
 },
 "nbformat": 4,
 "nbformat_minor": 2
}
