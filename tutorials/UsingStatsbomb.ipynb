{
 "cells": [
  {
   "cell_type": "code",
   "execution_count": 19,
   "metadata": {},
   "outputs": [],
   "source": [
    "#importing SBopen class from mplsoccer to open the data\n",
    "from mplsoccer import Sbopen\n",
    "# The first thing we have to do is open the data. We use a parser SBopen available in mplsoccer.\n",
    "parser = Sbopen()"
   ]
  },
  {
   "cell_type": "code",
   "execution_count": 20,
   "metadata": {},
   "outputs": [
    {
     "name": "stdout",
     "output_type": "stream",
     "text": [
      "<class 'pandas.core.frame.DataFrame'>\n",
      "RangeIndex: 67 entries, 0 to 66\n",
      "Data columns (total 12 columns):\n",
      " #   Column                     Non-Null Count  Dtype \n",
      "---  ------                     --------------  ----- \n",
      " 0   competition_id             67 non-null     int64 \n",
      " 1   season_id                  67 non-null     int64 \n",
      " 2   country_name               67 non-null     object\n",
      " 3   competition_name           67 non-null     object\n",
      " 4   competition_gender         67 non-null     object\n",
      " 5   competition_youth          67 non-null     bool  \n",
      " 6   competition_international  67 non-null     bool  \n",
      " 7   season_name                67 non-null     object\n",
      " 8   match_updated              67 non-null     object\n",
      " 9   match_updated_360          51 non-null     object\n",
      " 10  match_available_360        5 non-null      object\n",
      " 11  match_available            67 non-null     object\n",
      "dtypes: bool(2), int64(2), object(8)\n",
      "memory usage: 5.5+ KB\n"
     ]
    }
   ],
   "source": [
    "#opening data using competition method\n",
    "df_competition = parser.competition()\n",
    "#structure of data\n",
    "df_competition.info()"
   ]
  },
  {
   "cell_type": "code",
   "execution_count": 21,
   "metadata": {},
   "outputs": [
    {
     "name": "stdout",
     "output_type": "stream",
     "text": [
      "<class 'pandas.core.frame.DataFrame'>\n",
      "RangeIndex: 52 entries, 0 to 51\n",
      "Data columns (total 52 columns):\n",
      " #   Column                           Non-Null Count  Dtype         \n",
      "---  ------                           --------------  -----         \n",
      " 0   match_id                         52 non-null     int64         \n",
      " 1   match_date                       52 non-null     datetime64[ns]\n",
      " 2   kick_off                         52 non-null     datetime64[ns]\n",
      " 3   home_score                       52 non-null     int64         \n",
      " 4   away_score                       52 non-null     int64         \n",
      " 5   match_status                     52 non-null     object        \n",
      " 6   match_status_360                 52 non-null     object        \n",
      " 7   last_updated                     52 non-null     datetime64[ns]\n",
      " 8   last_updated_360                 52 non-null     datetime64[ns]\n",
      " 9   match_week                       52 non-null     int64         \n",
      " 10  competition_id                   52 non-null     int64         \n",
      " 11  country_name                     52 non-null     object        \n",
      " 12  competition_name                 52 non-null     object        \n",
      " 13  season_id                        52 non-null     int64         \n",
      " 14  season_name                      52 non-null     object        \n",
      " 15  home_team_id                     52 non-null     int64         \n",
      " 16  home_team_name                   52 non-null     object        \n",
      " 17  home_team_gender                 52 non-null     object        \n",
      " 18  home_team_group                  48 non-null     object        \n",
      " 19  home_team_country_id             52 non-null     int64         \n",
      " 20  home_team_country_name           52 non-null     object        \n",
      " 21  home_team_managers_id            52 non-null     int64         \n",
      " 22  home_team_managers_name          52 non-null     object        \n",
      " 23  home_team_managers_nickname      52 non-null     object        \n",
      " 24  home_team_managers_dob           52 non-null     datetime64[ns]\n",
      " 25  home_team_managers_country_id    52 non-null     int64         \n",
      " 26  home_team_managers_country_name  52 non-null     object        \n",
      " 27  away_team_id                     52 non-null     int64         \n",
      " 28  away_team_name                   52 non-null     object        \n",
      " 29  away_team_gender                 52 non-null     object        \n",
      " 30  away_team_group                  48 non-null     object        \n",
      " 31  away_team_country_id             52 non-null     int64         \n",
      " 32  away_team_country_name           52 non-null     object        \n",
      " 33  away_team_managers_id            52 non-null     int64         \n",
      " 34  away_team_managers_name          52 non-null     object        \n",
      " 35  away_team_managers_nickname      52 non-null     object        \n",
      " 36  away_team_managers_dob           52 non-null     datetime64[ns]\n",
      " 37  away_team_managers_country_id    52 non-null     int64         \n",
      " 38  away_team_managers_country_name  52 non-null     object        \n",
      " 39  metadata_data_version            52 non-null     object        \n",
      " 40  metadata_shot_fidelity_version   52 non-null     object        \n",
      " 41  metadata_xy_fidelity_version     52 non-null     object        \n",
      " 42  competition_stage_id             52 non-null     int64         \n",
      " 43  competition_stage_name           52 non-null     object        \n",
      " 44  stadium_id                       52 non-null     int64         \n",
      " 45  stadium_name                     52 non-null     object        \n",
      " 46  stadium_country_id               52 non-null     int64         \n",
      " 47  stadium_country_name             52 non-null     object        \n",
      " 48  referee_id                       36 non-null     float64       \n",
      " 49  referee_name                     36 non-null     object        \n",
      " 50  referee_country_id               36 non-null     float64       \n",
      " 51  referee_country_name             36 non-null     object        \n",
      "dtypes: datetime64[ns](6), float64(2), int64(17), object(27)\n",
      "memory usage: 21.3+ KB\n"
     ]
    }
   ],
   "source": [
    "#opening data using match method\n",
    "df_match = parser.match(competition_id=72, season_id=30)\n",
    "#structure of data\n",
    "df_match.info()"
   ]
  },
  {
   "cell_type": "code",
   "execution_count": 22,
   "metadata": {},
   "outputs": [
    {
     "name": "stdout",
     "output_type": "stream",
     "text": [
      "<class 'pandas.core.frame.DataFrame'>\n",
      "RangeIndex: 45 entries, 0 to 44\n",
      "Data columns (total 9 columns):\n",
      " #   Column           Non-Null Count  Dtype \n",
      "---  ------           --------------  ----- \n",
      " 0   player_id        45 non-null     int64 \n",
      " 1   player_name      45 non-null     object\n",
      " 2   player_nickname  45 non-null     object\n",
      " 3   jersey_number    45 non-null     int64 \n",
      " 4   match_id         45 non-null     int64 \n",
      " 5   team_id          45 non-null     int64 \n",
      " 6   team_name        45 non-null     object\n",
      " 7   country_id       45 non-null     int64 \n",
      " 8   country_name     45 non-null     object\n",
      "dtypes: int64(5), object(4)\n",
      "memory usage: 3.3+ KB\n"
     ]
    }
   ],
   "source": [
    "#opening data using match method\n",
    "df_lineup = parser.lineup(69301)\n",
    "#structure of data\n",
    "df_lineup.info()"
   ]
  },
  {
   "cell_type": "code",
   "execution_count": 23,
   "metadata": {},
   "outputs": [
    {
     "name": "stdout",
     "output_type": "stream",
     "text": [
      "<class 'pandas.core.frame.DataFrame'>\n",
      "RangeIndex: 3289 entries, 0 to 3288\n",
      "Data columns (total 73 columns):\n",
      " #   Column                          Non-Null Count  Dtype  \n",
      "---  ------                          --------------  -----  \n",
      " 0   id                              3289 non-null   object \n",
      " 1   index                           3289 non-null   int64  \n",
      " 2   period                          3289 non-null   int64  \n",
      " 3   timestamp                       3289 non-null   object \n",
      " 4   minute                          3289 non-null   int64  \n",
      " 5   second                          3289 non-null   int64  \n",
      " 6   possession                      3289 non-null   int64  \n",
      " 7   duration                        2457 non-null   float64\n",
      " 8   match_id                        3289 non-null   int64  \n",
      " 9   type_id                         3289 non-null   int64  \n",
      " 10  type_name                       3289 non-null   object \n",
      " 11  possession_team_id              3289 non-null   int64  \n",
      " 12  possession_team_name            3289 non-null   object \n",
      " 13  play_pattern_id                 3289 non-null   int64  \n",
      " 14  play_pattern_name               3289 non-null   object \n",
      " 15  team_id                         3289 non-null   int64  \n",
      " 16  team_name                       3289 non-null   object \n",
      " 17  tactics_formation               4 non-null      object \n",
      " 18  player_id                       3277 non-null   float64\n",
      " 19  player_name                     3277 non-null   object \n",
      " 20  position_id                     3277 non-null   float64\n",
      " 21  position_name                   3277 non-null   object \n",
      " 22  pass_recipient_id               834 non-null    float64\n",
      " 23  pass_recipient_name             834 non-null    object \n",
      " 24  pass_length                     921 non-null    float64\n",
      " 25  pass_angle                      921 non-null    float64\n",
      " 26  pass_height_id                  921 non-null    float64\n",
      " 27  pass_height_name                921 non-null    object \n",
      " 28  end_x                           1713 non-null   float64\n",
      " 29  end_y                           1713 non-null   float64\n",
      " 30  body_part_id                    939 non-null    float64\n",
      " 31  body_part_name                  939 non-null    object \n",
      " 32  sub_type_id                     318 non-null    float64\n",
      " 33  sub_type_name                   318 non-null    object \n",
      " 34  x                               3264 non-null   float64\n",
      " 35  y                               3264 non-null   float64\n",
      " 36  under_pressure                  640 non-null    float64\n",
      " 37  outcome_id                      503 non-null    float64\n",
      " 38  outcome_name                    503 non-null    object \n",
      " 39  out                             31 non-null     float64\n",
      " 40  counterpress                    86 non-null     float64\n",
      " 41  pass_deflected                  1 non-null      object \n",
      " 42  pass_switch                     23 non-null     object \n",
      " 43  technique_id                    37 non-null     float64\n",
      " 44  technique_name                  37 non-null     object \n",
      " 45  pass_cross                      33 non-null     object \n",
      " 46  off_camera                      25 non-null     float64\n",
      " 47  shot_statsbomb_xg               19 non-null     float64\n",
      " 48  end_z                           15 non-null     float64\n",
      " 49  shot_first_time                 5 non-null      object \n",
      " 50  goalkeeper_position_id          19 non-null     float64\n",
      " 51  goalkeeper_position_name        19 non-null     object \n",
      " 52  ball_recovery_recovery_failure  10 non-null     object \n",
      " 53  pass_assisted_shot_id           10 non-null     object \n",
      " 54  pass_shot_assist                8 non-null      object \n",
      " 55  shot_key_pass_id                10 non-null     object \n",
      " 56  foul_won_defensive              5 non-null      object \n",
      " 57  aerial_won                      30 non-null     object \n",
      " 58  pass_goal_assist                2 non-null      object \n",
      " 59  substitution_replacement_id     6 non-null      float64\n",
      " 60  substitution_replacement_name   6 non-null      object \n",
      " 61  foul_committed_offensive        2 non-null      object \n",
      " 62  shot_one_on_one                 1 non-null      object \n",
      " 63  dribble_overrun                 1 non-null      object \n",
      " 64  block_deflection                2 non-null      object \n",
      " 65  bad_behaviour_card_id           1 non-null      float64\n",
      " 66  bad_behaviour_card_name         1 non-null      object \n",
      " 67  pass_no_touch                   1 non-null      object \n",
      " 68  block_save_block                1 non-null      object \n",
      " 69  foul_committed_advantage        1 non-null      object \n",
      " 70  foul_won_advantage              1 non-null      object \n",
      " 71  foul_committed_card_id          1 non-null      float64\n",
      " 72  foul_committed_card_name        1 non-null      object \n",
      "dtypes: float64(25), int64(10), object(38)\n",
      "memory usage: 1.8+ MB\n"
     ]
    },
    {
     "name": "stderr",
     "output_type": "stream",
     "text": [
      "/opt/homebrew/lib/python3.11/site-packages/mplsoccer/statsbomb.py:509: FutureWarning: Setting an item of incompatible dtype is deprecated and will raise in a future error of pandas. Value '['4141' '4231' '4141' '343']' has dtype incompatible with float64, please explicitly cast to a compatible dtype first.\n",
      "  df.loc[mask, 'tactics_formation'] = df.loc[mask, 'tactics_formation'].astype(int).astype(str)\n",
      "/opt/homebrew/lib/python3.11/site-packages/mplsoccer/statsbomb.py:511: UserWarning: Could not infer format, so each element will be parsed individually, falling back to `dateutil`. To ensure parsing is consistent and as-expected, please specify a format.\n",
      "  df['timestamp'] = pd.to_datetime(df['timestamp']).dt.time\n"
     ]
    }
   ],
   "source": [
    "#opening data\n",
    "df_event, df_related, df_freeze, df_tactics = parser.event(69301)\n",
    "#if you want only event data you can use\n",
    "#df_event = parser.event(69301)[0]\n",
    "#structure of data\n",
    "df_event.info()"
   ]
  },
  {
   "cell_type": "code",
   "execution_count": 24,
   "metadata": {},
   "outputs": [
    {
     "name": "stdout",
     "output_type": "stream",
     "text": [
      "<class 'pandas.core.frame.DataFrame'>\n",
      "RangeIndex: 45737 entries, 0 to 45736\n",
      "Data columns (total 7 columns):\n",
      " #   Column    Non-Null Count  Dtype  \n",
      "---  ------    --------------  -----  \n",
      " 0   teammate  45737 non-null  bool   \n",
      " 1   actor     45737 non-null  bool   \n",
      " 2   keeper    45737 non-null  bool   \n",
      " 3   match_id  45737 non-null  int64  \n",
      " 4   id        45737 non-null  object \n",
      " 5   x         45737 non-null  float64\n",
      " 6   y         45737 non-null  float64\n",
      "dtypes: bool(3), float64(2), int64(1), object(1)\n",
      "memory usage: 1.5+ MB\n"
     ]
    }
   ],
   "source": [
    "df_frame, df_visible = parser.frame(3788741)\n",
    "\n",
    "# exploring the data\n",
    "df_frame.info()"
   ]
  }
 ],
 "metadata": {
  "kernelspec": {
   "display_name": "Python 3",
   "language": "python",
   "name": "python3"
  },
  "language_info": {
   "codemirror_mode": {
    "name": "ipython",
    "version": 3
   },
   "file_extension": ".py",
   "mimetype": "text/x-python",
   "name": "python",
   "nbconvert_exporter": "python",
   "pygments_lexer": "ipython3",
   "version": "3.11.5"
  }
 },
 "nbformat": 4,
 "nbformat_minor": 2
}
