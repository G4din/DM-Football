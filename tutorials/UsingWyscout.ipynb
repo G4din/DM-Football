{
  "cells": [
    {
      "cell_type": "code",
      "execution_count": 1,
      "metadata": {
        "collapsed": false
      },
      "outputs": [],
      "source": [
        "%matplotlib inline"
      ]
    },
    {
      "cell_type": "markdown",
      "metadata": {},
      "source": [
        "\n",
        "# Using Wyscout \n",
        "\n",
        "Getting familiar with Wyscout data\n"
      ]
    },
    {
      "cell_type": "code",
      "execution_count": 2,
      "metadata": {
        "collapsed": false
      },
      "outputs": [],
      "source": [
        "#importing necessary libraries\n",
        "import pathlib\n",
        "import os\n",
        "import pandas as pd\n",
        "import json"
      ]
    },
    {
      "cell_type": "markdown",
      "metadata": {},
      "source": [
        "## Competition data\n",
        "In this dataframe you will find information about the id of a competition and available competitions.\n",
        "If you are trying it locally, comment  ..... active lines (put # in front lines path = ...) and comment out (delete #).\n",
        "\n"
      ]
    },
    {
      "cell_type": "code",
      "execution_count": 3,
      "metadata": {
        "collapsed": false
      },
      "outputs": [
        {
          "ename": "FileNotFoundError",
          "evalue": "[Errno 2] No such file or directory: '/Users/g4din/Library/Mobile Documents/com~apple~CloudDocs/School/IT/Utbyte/CSCI Data Mining/project/DM-Football/tutorials/data/Wyscout/competitions.json'",
          "output_type": "error",
          "traceback": [
            "\u001b[0;31m---------------------------------------------------------------------------\u001b[0m",
            "\u001b[0;31mFileNotFoundError\u001b[0m                         Traceback (most recent call last)",
            "\u001b[1;32m/Users/g4din/Library/Mobile Documents/com~apple~CloudDocs/School/IT/Utbyte/CSCI Data Mining/project/DM-Football/tutorials/UsingWyscout.ipynb Cell 5\u001b[0m line \u001b[0;36m6\n\u001b[1;32m      <a href='vscode-notebook-cell:/Users/g4din/Library/Mobile%20Documents/com~apple~CloudDocs/School/IT/Utbyte/CSCI%20Data%20Mining/project/DM-Football/tutorials/UsingWyscout.ipynb#W4sZmlsZQ%3D%3D?line=1'>2</a>\u001b[0m path \u001b[39m=\u001b[39m os\u001b[39m.\u001b[39mpath\u001b[39m.\u001b[39mjoin(\u001b[39mstr\u001b[39m(pathlib\u001b[39m.\u001b[39mPath()\u001b[39m.\u001b[39mresolve()), \u001b[39m'\u001b[39m\u001b[39mdata\u001b[39m\u001b[39m'\u001b[39m, \u001b[39m'\u001b[39m\u001b[39mWyscout\u001b[39m\u001b[39m'\u001b[39m, \u001b[39m'\u001b[39m\u001b[39mcompetitions.json\u001b[39m\u001b[39m'\u001b[39m) \u001b[39m# put # in front if used locally\u001b[39;00m\n\u001b[1;32m      <a href='vscode-notebook-cell:/Users/g4din/Library/Mobile%20Documents/com~apple~CloudDocs/School/IT/Utbyte/CSCI%20Data%20Mining/project/DM-Football/tutorials/UsingWyscout.ipynb#W4sZmlsZQ%3D%3D?line=2'>3</a>\u001b[0m \u001b[39m#path = os.path.join(str(pathlib.Path().resolve()), 'Wyscout', 'competitions.json') # delete #\u001b[39;00m\n\u001b[1;32m      <a href='vscode-notebook-cell:/Users/g4din/Library/Mobile%20Documents/com~apple~CloudDocs/School/IT/Utbyte/CSCI%20Data%20Mining/project/DM-Football/tutorials/UsingWyscout.ipynb#W4sZmlsZQ%3D%3D?line=3'>4</a>\u001b[0m \n\u001b[1;32m      <a href='vscode-notebook-cell:/Users/g4din/Library/Mobile%20Documents/com~apple~CloudDocs/School/IT/Utbyte/CSCI%20Data%20Mining/project/DM-Football/tutorials/UsingWyscout.ipynb#W4sZmlsZQ%3D%3D?line=4'>5</a>\u001b[0m \u001b[39m#open data \u001b[39;00m\n\u001b[0;32m----> <a href='vscode-notebook-cell:/Users/g4din/Library/Mobile%20Documents/com~apple~CloudDocs/School/IT/Utbyte/CSCI%20Data%20Mining/project/DM-Football/tutorials/UsingWyscout.ipynb#W4sZmlsZQ%3D%3D?line=5'>6</a>\u001b[0m \u001b[39mwith\u001b[39;00m \u001b[39mopen\u001b[39;49m(path) \u001b[39mas\u001b[39;00m f:\n\u001b[1;32m      <a href='vscode-notebook-cell:/Users/g4din/Library/Mobile%20Documents/com~apple~CloudDocs/School/IT/Utbyte/CSCI%20Data%20Mining/project/DM-Football/tutorials/UsingWyscout.ipynb#W4sZmlsZQ%3D%3D?line=6'>7</a>\u001b[0m     data \u001b[39m=\u001b[39m json\u001b[39m.\u001b[39mload(f)\n\u001b[1;32m      <a href='vscode-notebook-cell:/Users/g4din/Library/Mobile%20Documents/com~apple~CloudDocs/School/IT/Utbyte/CSCI%20Data%20Mining/project/DM-Football/tutorials/UsingWyscout.ipynb#W4sZmlsZQ%3D%3D?line=7'>8</a>\u001b[0m     \u001b[39m#save it in dataframe \u001b[39;00m\n",
            "File \u001b[0;32m~/Library/Python/3.11/lib/python/site-packages/IPython/core/interactiveshell.py:284\u001b[0m, in \u001b[0;36m_modified_open\u001b[0;34m(file, *args, **kwargs)\u001b[0m\n\u001b[1;32m    277\u001b[0m \u001b[39mif\u001b[39;00m file \u001b[39min\u001b[39;00m {\u001b[39m0\u001b[39m, \u001b[39m1\u001b[39m, \u001b[39m2\u001b[39m}:\n\u001b[1;32m    278\u001b[0m     \u001b[39mraise\u001b[39;00m \u001b[39mValueError\u001b[39;00m(\n\u001b[1;32m    279\u001b[0m         \u001b[39mf\u001b[39m\u001b[39m\"\u001b[39m\u001b[39mIPython won\u001b[39m\u001b[39m'\u001b[39m\u001b[39mt let you open fd=\u001b[39m\u001b[39m{\u001b[39;00mfile\u001b[39m}\u001b[39;00m\u001b[39m by default \u001b[39m\u001b[39m\"\u001b[39m\n\u001b[1;32m    280\u001b[0m         \u001b[39m\"\u001b[39m\u001b[39mas it is likely to crash IPython. If you know what you are doing, \u001b[39m\u001b[39m\"\u001b[39m\n\u001b[1;32m    281\u001b[0m         \u001b[39m\"\u001b[39m\u001b[39myou can use builtins\u001b[39m\u001b[39m'\u001b[39m\u001b[39m open.\u001b[39m\u001b[39m\"\u001b[39m\n\u001b[1;32m    282\u001b[0m     )\n\u001b[0;32m--> 284\u001b[0m \u001b[39mreturn\u001b[39;00m io_open(file, \u001b[39m*\u001b[39;49margs, \u001b[39m*\u001b[39;49m\u001b[39m*\u001b[39;49mkwargs)\n",
            "\u001b[0;31mFileNotFoundError\u001b[0m: [Errno 2] No such file or directory: '/Users/g4din/Library/Mobile Documents/com~apple~CloudDocs/School/IT/Utbyte/CSCI Data Mining/project/DM-Football/tutorials/data/Wyscout/competitions.json'"
          ]
        }
      ],
      "source": [
        "#path to data\n",
        "path = os.path.join(str(pathlib.Path().resolve()), 'data', 'Wyscout', 'competitions.json') # put # in front if used locally\n",
        "#path = os.path.join(str(pathlib.Path().resolve()), 'Wyscout', 'competitions.json') # delete #\n",
        "\n",
        "#open data \n",
        "with open(path) as f:\n",
        "    data = json.load(f)\n",
        "    #save it in dataframe \n",
        "df_competitions = pd.DataFrame(data)\n",
        "#structure of data\n",
        "df_competitions.info()"
      ]
    },
    {
      "cell_type": "markdown",
      "metadata": {},
      "source": [
        "## Match data\n",
        "In this dataframe you can find information about all games that were played in Premier League 2017/18 season.\n",
        "*wyId* is the unique id in the Wyscout database. \n",
        "\n"
      ]
    },
    {
      "cell_type": "code",
      "execution_count": null,
      "metadata": {
        "collapsed": false
      },
      "outputs": [],
      "source": [
        "#path to data \n",
        "path = os.path.join(str(pathlib.Path().resolve()), 'data', 'Wyscout', 'matches_England.json') # put # in front if used locally\n",
        "#path = os.path.join(str(pathlib.Path().resolve()), 'data', 'Wyscout', 'matches_England.json') # delete #\n",
        "with open(path) as f:\n",
        "    data = json.load(f)\n",
        "#save it in a dataframe  \n",
        "df_matches = pd.DataFrame(data)\n",
        "#structure of data\n",
        "df_matches.info()"
      ]
    },
    {
      "cell_type": "markdown",
      "metadata": {},
      "source": [
        "## Player data\n",
        "In this dataframe you can find information about all players available for Wyscout public dataset. *wyId* is \n",
        "the player id in the Wyscout database. In the *currentTeamId* you can find the id of a team that the player plays form.\n",
        "*shortName* is an important column for vizualisations and rankings since player's name is written in a shorter way.\n",
        "\n"
      ]
    },
    {
      "cell_type": "code",
      "execution_count": null,
      "metadata": {
        "collapsed": false
      },
      "outputs": [],
      "source": [
        "#path to data\n",
        "path = os.path.join(str(pathlib.Path().resolve()), 'data', 'Wyscout', 'players.json') # put # in front if used locally\n",
        "#path = os.path.join(str(pathlib.Path().resolve()), 'data', 'Wyscout', 'players.json')  \n",
        "#open data\n",
        "with open(path) as f:\n",
        "    data = json.load(f)\n",
        "#save it in a dataframe  \n",
        "df_players = pd.DataFrame(data)\n",
        "#structure of data\n",
        "df_players.info()"
      ]
    },
    {
      "cell_type": "markdown",
      "metadata": {},
      "source": [
        "## Event data\n",
        "In this dataframe you can find information about all events that occured in all the games during 2017/18 Premier League\n",
        "season. *matchId* matches the wyId from *df_matches*, *playerId* matches *wyId* from *df_players*.*tags* provide information on additional characteristics of an event, for example\n",
        "if the pass was accurate. The location on the pass can be found in *positions*, but remeber, that the data are collected\n",
        "on 100x100 square with reverted y-axis. In the *eventName* you will find the basic name of an event, whereas *subEventName*\n",
        "provide more information. *eventSec* is the time of an event.\n",
        "\n",
        "If you want to learn more about Wyscout data, you can explore \n",
        "[WyScout API](https://apidocs.wyscout.com/), but remember to switch the version to 2.0 at the top of the page.\n",
        "\n",
        "This code is adjusted to the webpage with file size limit. If you want to open the data that is stored in the working\n",
        "directory, comment (put '#') before the following code and comment out the lines below them (delete '#').\n",
        "\n"
      ]
    },
    {
      "cell_type": "code",
      "execution_count": null,
      "metadata": {
        "collapsed": false
      },
      "outputs": [],
      "source": [
        "#prepare empty dataframe\n",
        "df_events = pd.DataFrame() # put # in front if used locally\n",
        "for i in range(13): # put # in front if used locally\n",
        "    #get file name and path to it\n",
        "    file_name = 'events_England_' + str(i+1) + '.json' # put # in front if used locally\n",
        "    path = os.path.join(str(pathlib.Path().resolve()), 'data', 'Wyscout', file_name) # put # in front if used locally\n",
        "    #open data\n",
        "    with open(path) as f: # put # in front if used locally\n",
        "        data = json.load(f) # put # in front if used locally\n",
        "    #append data to the dataframe\n",
        "    df_events = pd.concat([df_events, pd.DataFrame(data)]) # put # in front if used locally\n",
        "\n",
        "\n",
        "#path = os.path.join(str(pathlib.Path().resolve()), 'Wyscout', 'events_England_.json') # delete #\n",
        "#with open(path) as f: # delete #\n",
        "    #data = json.load(f) # delete #\n",
        "#df_events = pd.DataFrame(data) # delete #\n",
        "\n",
        "#structure of data\n",
        "df_events.info()"
      ]
    },
    {
      "cell_type": "markdown",
      "metadata": {},
      "source": [
        "## Before you start\n",
        "Run these lines in Spyder/Jupyter notebook and explore dataframes \n",
        "to get more familiar before you start working on the course.\n"
      ]
    }
  ],
  "metadata": {
    "kernelspec": {
      "display_name": "Python 3",
      "language": "python",
      "name": "python3"
    },
    "language_info": {
      "codemirror_mode": {
        "name": "ipython",
        "version": 3
      },
      "file_extension": ".py",
      "mimetype": "text/x-python",
      "name": "python",
      "nbconvert_exporter": "python",
      "pygments_lexer": "ipython3",
      "version": "3.11.5"
    }
  },
  "nbformat": 4,
  "nbformat_minor": 0
}
